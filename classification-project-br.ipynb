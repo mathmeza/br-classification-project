{
  "nbformat": 4,
  "nbformat_minor": 0,
  "metadata": {
    "kernelspec": {
      "display_name": "Python 3",
      "language": "python",
      "name": "python3"
    },
    "language_info": {
      "codemirror_mode": {
        "name": "ipython",
        "version": 3
      },
      "file_extension": ".py",
      "mimetype": "text/x-python",
      "name": "python",
      "nbconvert_exporter": "python",
      "pygments_lexer": "ipython3",
      "version": "3.7.6"
    },
    "colab": {
      "name": "classification-project-br.ipynb",
      "provenance": [],
      "collapsed_sections": []
    }
  },
  "cells": [
    {
      "cell_type": "markdown",
      "metadata": {
        "id": "0wOb7kwJUZ8m"
      },
      "source": [
        "![](https://i.imgur.com/JsMvGnP.png)"
      ]
    },
    {
      "cell_type": "markdown",
      "metadata": {
        "id": "4tOzXzrWUZ9E"
      },
      "source": [
        "# Projeto - Classificação\n",
        "\n",
        "## 1. Considerações iniciais\n",
        "\n",
        "Neste notebook iremos praticar a construção de um modelo de Machine Learning. Na atividade, iremos utilizar um algoritmo para realizar um processo de classificação. \n",
        "\n",
        "Como o foco da atividade será percorrer o fluxo do Aprendizado de Máquina por inteiro (ou o máximo dele), evitaremos, propositalmente, adentrar em algoritmos e explicações mais complexas.\n",
        "\n",
        "\n",
        "### 1.1. O Problema de Negócio\n",
        "\n",
        "A _churn rate_ (taxa de rotatividade ou cancelamento) é a porcentagem de assinantes que interrompem suas assinaturas de um serviço dentro de um determinado período de tempo. Para uma empresa expandir sua clientela, sua taxa de crescimento, medida pelo número de novos clientes, deve exceder sua taxa de cancelamento (_churn rate_).\n",
        "\n",
        "Portanto, neste projeto, um banco deseja que você construa um modelo de Machine Learning que possa prever a probabilidade de seus clientes atuais fecharem suas contas em um futuro próximo e, portanto, calcular sua _churn rate_.\n",
        "\n",
        "Esse é um problema de classificação no qual você classifica se um cliente irá sair (y=1) ou permanecer (y=0) com base diversos atributos.\n",
        "\n",
        "### 1.2. Descrição do dados\n",
        "\n",
        "Os dados necessários podem ser encontrados no [repositório da atividade](https://github.com/awarischool/br-classification-project). No arquivo *Churn_Modelling.csv* você encontrará:\n",
        "- **RowNumber**: id do registro/linha.\n",
        "- **CustomerId**: identificador único do cliente.\n",
        "- **Surname**: sobrenome do cliente.\n",
        "- **CreditScore**: pontuação de crédito do cliente.\n",
        "- **Geography**: país de origem do cliente.\n",
        "- **Gender**: sexo do cliente.\n",
        "- **Age**: idade do cliente.\n",
        "- **Tenure**: número de anos em que o cliente está com o banco.\n",
        "- **Balance**: saldo bancário.\n",
        "- **NumOfProducts**: número de produtos que o cliente utiliza.\n",
        "- **HasCrCard**: indica se o cliente tem (1) ou não tem (0) cartão de crédito.\n",
        "- **IsActiveMember**: indica se o cliente é (1) ou não é (0) ativo no banco.\n",
        "- **EstimatedSalary**: salário estimado em dólares.\n",
        "- **Exited**: indica se o cliente encerrou (1) a conta no banco ou se o cliente foi retido (0).\n",
        "\n",
        "\n",
        "### 1.3 Métricas de Avaliação\n",
        "\n",
        "Avalie seu modelo utilizando as métricas Acurácia e AUC (area under the ROC) estudadas nos módulos anteriores.\n",
        "\n",
        "Trabalhe até conseguir uma acurácia acima e 85%.\n",
        "\n",
        "## 2. Etapas do Projeto\n",
        "\n",
        "Neste projeto você poderá seguir o fluxo que preferir, mas como sugestão pode seguir as seguintes etapas:\n",
        "1. Análise exploratória \n",
        "2. Preparação e limpeza dos dados\n",
        "3. Seleção de atributos\n",
        "4. Construção do modelo\n",
        "5. Avaliação do modelo\n",
        "6. Otimização do modelo\n",
        "\n",
        "Lembrando que esses passos, provavelmente, serão executados várias vezes até se obter um resultado satisfatório.\n",
        "\n",
        "Sugestões de modelos:\n",
        "* Logistic Regression Classification\n",
        "* K-Nearest Neighbour (KNN) Classification\n",
        "* Support Vector Machine (SVM) Classification\n",
        "* Naive Bayes Classification\n",
        "* Decision Tree Classification\n",
        "* Random Forest Classification\n",
        "\n",
        "Em caso de dúvidas, não esqueça de conversar com seu mentor."
      ]
    },
    {
      "cell_type": "markdown",
      "metadata": {
        "id": "wuHEJq_OUZ9H"
      },
      "source": [
        "## 3. Desenvolvimento do Projeto"
      ]
    },
    {
      "cell_type": "markdown",
      "metadata": {
        "id": "2PmWbcv2RsC8"
      },
      "source": [
        "### 3.0 Extração dos dados"
      ]
    },
    {
      "cell_type": "code",
      "metadata": {
        "id": "SK65dEuORsU8"
      },
      "source": [
        "# Importando bibliotecas necessárias para o projeto\n",
        "import pandas as pd\n",
        "import numpy as np\n",
        "import matplotlib.pyplot as plt\n",
        "import seaborn as sns\n",
        "\n",
        "from sklearn.tree import DecisionTreeClassifier\n",
        "from sklearn.ensemble import RandomForestClassifier\n",
        "from sklearn.linear_model import LogisticRegression\n",
        "from sklearn.svm import SVC\n",
        "from sklearn.naive_bayes import GaussianNB\n",
        "from sklearn.neural_network import MLPClassifier\n",
        "from lightgbm import LGBMClassifier\n",
        "from xgboost import XGBClassifier\n",
        "from xgboost import XGBRFClassifier\n",
        "\n",
        "from sklearn.model_selection import GridSearchCV\n",
        "from sklearn.model_selection import train_test_split\n",
        "from sklearn.model_selection import cross_val_score\n",
        "from sklearn.metrics import roc_curve\n",
        "from sklearn.metrics import roc_auc_score"
      ],
      "execution_count": 212,
      "outputs": []
    },
    {
      "cell_type": "code",
      "metadata": {
        "id": "QsbE0ZJIRsws"
      },
      "source": [
        "# Extração dos dados\n",
        "df = pd.read_csv('Churn_Modelling.csv')"
      ],
      "execution_count": 160,
      "outputs": []
    },
    {
      "cell_type": "markdown",
      "metadata": {
        "id": "IEtcWN53UZ9K"
      },
      "source": [
        "### 3.1 Análise exploratória"
      ]
    },
    {
      "cell_type": "code",
      "metadata": {
        "id": "4o_gxY3BUZ9L",
        "colab": {
          "base_uri": "https://localhost:8080/",
          "height": 254
        },
        "outputId": "68a899c2-cd4e-443e-c033-d84d1ebde4cf"
      },
      "source": [
        "# Entender quantidade de dados\n",
        "print(f'O conjunto de dados possui {df.shape[0]} linhas')\n",
        "print(f'O conjunto de dados possui {df.shape[1]} colunas')\n",
        "print()\n",
        "\n",
        "# Visualizar as 5 primeiras entradas dos dados\n",
        "df.head()"
      ],
      "execution_count": 161,
      "outputs": [
        {
          "output_type": "stream",
          "text": [
            "O conjunto de dados possui 10000 linhas\n",
            "O conjunto de dados possui 14 colunas\n",
            "\n"
          ],
          "name": "stdout"
        },
        {
          "output_type": "execute_result",
          "data": {
            "text/html": [
              "<div>\n",
              "<style scoped>\n",
              "    .dataframe tbody tr th:only-of-type {\n",
              "        vertical-align: middle;\n",
              "    }\n",
              "\n",
              "    .dataframe tbody tr th {\n",
              "        vertical-align: top;\n",
              "    }\n",
              "\n",
              "    .dataframe thead th {\n",
              "        text-align: right;\n",
              "    }\n",
              "</style>\n",
              "<table border=\"1\" class=\"dataframe\">\n",
              "  <thead>\n",
              "    <tr style=\"text-align: right;\">\n",
              "      <th></th>\n",
              "      <th>RowNumber</th>\n",
              "      <th>CustomerId</th>\n",
              "      <th>Surname</th>\n",
              "      <th>CreditScore</th>\n",
              "      <th>Geography</th>\n",
              "      <th>Gender</th>\n",
              "      <th>Age</th>\n",
              "      <th>Tenure</th>\n",
              "      <th>Balance</th>\n",
              "      <th>NumOfProducts</th>\n",
              "      <th>HasCrCard</th>\n",
              "      <th>IsActiveMember</th>\n",
              "      <th>EstimatedSalary</th>\n",
              "      <th>Exited</th>\n",
              "    </tr>\n",
              "  </thead>\n",
              "  <tbody>\n",
              "    <tr>\n",
              "      <th>0</th>\n",
              "      <td>1</td>\n",
              "      <td>15634602</td>\n",
              "      <td>Hargrave</td>\n",
              "      <td>619</td>\n",
              "      <td>France</td>\n",
              "      <td>Female</td>\n",
              "      <td>42</td>\n",
              "      <td>2</td>\n",
              "      <td>0.00</td>\n",
              "      <td>1</td>\n",
              "      <td>1</td>\n",
              "      <td>1</td>\n",
              "      <td>101348.88</td>\n",
              "      <td>1</td>\n",
              "    </tr>\n",
              "    <tr>\n",
              "      <th>1</th>\n",
              "      <td>2</td>\n",
              "      <td>15647311</td>\n",
              "      <td>Hill</td>\n",
              "      <td>608</td>\n",
              "      <td>Spain</td>\n",
              "      <td>Female</td>\n",
              "      <td>41</td>\n",
              "      <td>1</td>\n",
              "      <td>83807.86</td>\n",
              "      <td>1</td>\n",
              "      <td>0</td>\n",
              "      <td>1</td>\n",
              "      <td>112542.58</td>\n",
              "      <td>0</td>\n",
              "    </tr>\n",
              "    <tr>\n",
              "      <th>2</th>\n",
              "      <td>3</td>\n",
              "      <td>15619304</td>\n",
              "      <td>Onio</td>\n",
              "      <td>502</td>\n",
              "      <td>France</td>\n",
              "      <td>Female</td>\n",
              "      <td>42</td>\n",
              "      <td>8</td>\n",
              "      <td>159660.80</td>\n",
              "      <td>3</td>\n",
              "      <td>1</td>\n",
              "      <td>0</td>\n",
              "      <td>113931.57</td>\n",
              "      <td>1</td>\n",
              "    </tr>\n",
              "    <tr>\n",
              "      <th>3</th>\n",
              "      <td>4</td>\n",
              "      <td>15701354</td>\n",
              "      <td>Boni</td>\n",
              "      <td>699</td>\n",
              "      <td>France</td>\n",
              "      <td>Female</td>\n",
              "      <td>39</td>\n",
              "      <td>1</td>\n",
              "      <td>0.00</td>\n",
              "      <td>2</td>\n",
              "      <td>0</td>\n",
              "      <td>0</td>\n",
              "      <td>93826.63</td>\n",
              "      <td>0</td>\n",
              "    </tr>\n",
              "    <tr>\n",
              "      <th>4</th>\n",
              "      <td>5</td>\n",
              "      <td>15737888</td>\n",
              "      <td>Mitchell</td>\n",
              "      <td>850</td>\n",
              "      <td>Spain</td>\n",
              "      <td>Female</td>\n",
              "      <td>43</td>\n",
              "      <td>2</td>\n",
              "      <td>125510.82</td>\n",
              "      <td>1</td>\n",
              "      <td>1</td>\n",
              "      <td>1</td>\n",
              "      <td>79084.10</td>\n",
              "      <td>0</td>\n",
              "    </tr>\n",
              "  </tbody>\n",
              "</table>\n",
              "</div>"
            ],
            "text/plain": [
              "   RowNumber  CustomerId   Surname  ...  IsActiveMember EstimatedSalary Exited\n",
              "0          1    15634602  Hargrave  ...               1       101348.88      1\n",
              "1          2    15647311      Hill  ...               1       112542.58      0\n",
              "2          3    15619304      Onio  ...               0       113931.57      1\n",
              "3          4    15701354      Boni  ...               0        93826.63      0\n",
              "4          5    15737888  Mitchell  ...               1        79084.10      0\n",
              "\n",
              "[5 rows x 14 columns]"
            ]
          },
          "metadata": {
            "tags": []
          },
          "execution_count": 161
        }
      ]
    },
    {
      "cell_type": "code",
      "metadata": {
        "colab": {
          "base_uri": "https://localhost:8080/",
          "height": 223
        },
        "id": "5p5jYXZDT858",
        "outputId": "3784a5b4-babc-4c56-8be2-4597be02a4e9"
      },
      "source": [
        "# Vamos renomear as colunas para facilitar nas análises.\n",
        "df.rename(columns={'RowNumber':'id_linha', 'CustomerId':'id_cliente',\n",
        "                   'Surname':'sobrenome', 'CreditScore':'pontuacao_credito',\n",
        "                   'Geography':'pais_origem', 'Gender':'genero',\n",
        "                   'Age':'idade', 'Tenure':'tempo_cadastro_banco',\n",
        "                   'Balance':'saldo_bancario', 'NumOfProducts':'qtd_produtos',\n",
        "                   'HasCrCard':'possui_cartao', 'IsActiveMember':'cliente_ativo',\n",
        "                   'EstimatedSalary':'salario_estimado', 'Exited':'conta_encerrada'                       \n",
        "},inplace=True)\n",
        "\n",
        "df.head()"
      ],
      "execution_count": 162,
      "outputs": [
        {
          "output_type": "execute_result",
          "data": {
            "text/html": [
              "<div>\n",
              "<style scoped>\n",
              "    .dataframe tbody tr th:only-of-type {\n",
              "        vertical-align: middle;\n",
              "    }\n",
              "\n",
              "    .dataframe tbody tr th {\n",
              "        vertical-align: top;\n",
              "    }\n",
              "\n",
              "    .dataframe thead th {\n",
              "        text-align: right;\n",
              "    }\n",
              "</style>\n",
              "<table border=\"1\" class=\"dataframe\">\n",
              "  <thead>\n",
              "    <tr style=\"text-align: right;\">\n",
              "      <th></th>\n",
              "      <th>id_linha</th>\n",
              "      <th>id_cliente</th>\n",
              "      <th>sobrenome</th>\n",
              "      <th>pontuacao_credito</th>\n",
              "      <th>pais_origem</th>\n",
              "      <th>genero</th>\n",
              "      <th>idade</th>\n",
              "      <th>tempo_cadastro_banco</th>\n",
              "      <th>saldo_bancario</th>\n",
              "      <th>qtd_produtos</th>\n",
              "      <th>possui_cartao</th>\n",
              "      <th>cliente_ativo</th>\n",
              "      <th>salario_estimado</th>\n",
              "      <th>conta_encerrada</th>\n",
              "    </tr>\n",
              "  </thead>\n",
              "  <tbody>\n",
              "    <tr>\n",
              "      <th>0</th>\n",
              "      <td>1</td>\n",
              "      <td>15634602</td>\n",
              "      <td>Hargrave</td>\n",
              "      <td>619</td>\n",
              "      <td>France</td>\n",
              "      <td>Female</td>\n",
              "      <td>42</td>\n",
              "      <td>2</td>\n",
              "      <td>0.00</td>\n",
              "      <td>1</td>\n",
              "      <td>1</td>\n",
              "      <td>1</td>\n",
              "      <td>101348.88</td>\n",
              "      <td>1</td>\n",
              "    </tr>\n",
              "    <tr>\n",
              "      <th>1</th>\n",
              "      <td>2</td>\n",
              "      <td>15647311</td>\n",
              "      <td>Hill</td>\n",
              "      <td>608</td>\n",
              "      <td>Spain</td>\n",
              "      <td>Female</td>\n",
              "      <td>41</td>\n",
              "      <td>1</td>\n",
              "      <td>83807.86</td>\n",
              "      <td>1</td>\n",
              "      <td>0</td>\n",
              "      <td>1</td>\n",
              "      <td>112542.58</td>\n",
              "      <td>0</td>\n",
              "    </tr>\n",
              "    <tr>\n",
              "      <th>2</th>\n",
              "      <td>3</td>\n",
              "      <td>15619304</td>\n",
              "      <td>Onio</td>\n",
              "      <td>502</td>\n",
              "      <td>France</td>\n",
              "      <td>Female</td>\n",
              "      <td>42</td>\n",
              "      <td>8</td>\n",
              "      <td>159660.80</td>\n",
              "      <td>3</td>\n",
              "      <td>1</td>\n",
              "      <td>0</td>\n",
              "      <td>113931.57</td>\n",
              "      <td>1</td>\n",
              "    </tr>\n",
              "    <tr>\n",
              "      <th>3</th>\n",
              "      <td>4</td>\n",
              "      <td>15701354</td>\n",
              "      <td>Boni</td>\n",
              "      <td>699</td>\n",
              "      <td>France</td>\n",
              "      <td>Female</td>\n",
              "      <td>39</td>\n",
              "      <td>1</td>\n",
              "      <td>0.00</td>\n",
              "      <td>2</td>\n",
              "      <td>0</td>\n",
              "      <td>0</td>\n",
              "      <td>93826.63</td>\n",
              "      <td>0</td>\n",
              "    </tr>\n",
              "    <tr>\n",
              "      <th>4</th>\n",
              "      <td>5</td>\n",
              "      <td>15737888</td>\n",
              "      <td>Mitchell</td>\n",
              "      <td>850</td>\n",
              "      <td>Spain</td>\n",
              "      <td>Female</td>\n",
              "      <td>43</td>\n",
              "      <td>2</td>\n",
              "      <td>125510.82</td>\n",
              "      <td>1</td>\n",
              "      <td>1</td>\n",
              "      <td>1</td>\n",
              "      <td>79084.10</td>\n",
              "      <td>0</td>\n",
              "    </tr>\n",
              "  </tbody>\n",
              "</table>\n",
              "</div>"
            ],
            "text/plain": [
              "   id_linha  id_cliente  ... salario_estimado  conta_encerrada\n",
              "0         1    15634602  ...        101348.88                1\n",
              "1         2    15647311  ...        112542.58                0\n",
              "2         3    15619304  ...        113931.57                1\n",
              "3         4    15701354  ...         93826.63                0\n",
              "4         5    15737888  ...         79084.10                0\n",
              "\n",
              "[5 rows x 14 columns]"
            ]
          },
          "metadata": {
            "tags": []
          },
          "execution_count": 162
        }
      ]
    },
    {
      "cell_type": "code",
      "metadata": {
        "id": "yFXpo8ZLUZ9N",
        "colab": {
          "base_uri": "https://localhost:8080/"
        },
        "outputId": "8e956909-7b0e-4392-ec4e-adbd5fd1aa14"
      },
      "source": [
        "# Verificar se temos presença de dados nulos\n",
        "df.isnull().sum().sort_values(ascending=False)"
      ],
      "execution_count": 163,
      "outputs": [
        {
          "output_type": "execute_result",
          "data": {
            "text/plain": [
              "conta_encerrada         0\n",
              "salario_estimado        0\n",
              "cliente_ativo           0\n",
              "possui_cartao           0\n",
              "qtd_produtos            0\n",
              "saldo_bancario          0\n",
              "tempo_cadastro_banco    0\n",
              "idade                   0\n",
              "genero                  0\n",
              "pais_origem             0\n",
              "pontuacao_credito       0\n",
              "sobrenome               0\n",
              "id_cliente              0\n",
              "id_linha                0\n",
              "dtype: int64"
            ]
          },
          "metadata": {
            "tags": []
          },
          "execution_count": 163
        }
      ]
    },
    {
      "cell_type": "markdown",
      "metadata": {
        "id": "zQkkwsruS5ns"
      },
      "source": [
        "Não temos dados nulos, o que aparenta ser um ótimo! "
      ]
    },
    {
      "cell_type": "code",
      "metadata": {
        "colab": {
          "base_uri": "https://localhost:8080/"
        },
        "id": "cIcByowkWMp-",
        "outputId": "2a9963dd-3348-405b-f1c3-2d2a1b715425"
      },
      "source": [
        "# Verificar tipos de dados\n",
        "df.info()"
      ],
      "execution_count": 164,
      "outputs": [
        {
          "output_type": "stream",
          "text": [
            "<class 'pandas.core.frame.DataFrame'>\n",
            "RangeIndex: 10000 entries, 0 to 9999\n",
            "Data columns (total 14 columns):\n",
            " #   Column                Non-Null Count  Dtype  \n",
            "---  ------                --------------  -----  \n",
            " 0   id_linha              10000 non-null  int64  \n",
            " 1   id_cliente            10000 non-null  int64  \n",
            " 2   sobrenome             10000 non-null  object \n",
            " 3   pontuacao_credito     10000 non-null  int64  \n",
            " 4   pais_origem           10000 non-null  object \n",
            " 5   genero                10000 non-null  object \n",
            " 6   idade                 10000 non-null  int64  \n",
            " 7   tempo_cadastro_banco  10000 non-null  int64  \n",
            " 8   saldo_bancario        10000 non-null  float64\n",
            " 9   qtd_produtos          10000 non-null  int64  \n",
            " 10  possui_cartao         10000 non-null  int64  \n",
            " 11  cliente_ativo         10000 non-null  int64  \n",
            " 12  salario_estimado      10000 non-null  float64\n",
            " 13  conta_encerrada       10000 non-null  int64  \n",
            "dtypes: float64(2), int64(9), object(3)\n",
            "memory usage: 1.1+ MB\n"
          ],
          "name": "stdout"
        }
      ]
    },
    {
      "cell_type": "code",
      "metadata": {
        "colab": {
          "base_uri": "https://localhost:8080/",
          "height": 388
        },
        "id": "_86T9t62S5qn",
        "outputId": "e96dfe1e-28a5-4bc8-b27c-208e30d5fbc8"
      },
      "source": [
        "# Verificar dados estatísticos descritivos\n",
        "df.describe().T.round(2)"
      ],
      "execution_count": 165,
      "outputs": [
        {
          "output_type": "execute_result",
          "data": {
            "text/html": [
              "<div>\n",
              "<style scoped>\n",
              "    .dataframe tbody tr th:only-of-type {\n",
              "        vertical-align: middle;\n",
              "    }\n",
              "\n",
              "    .dataframe tbody tr th {\n",
              "        vertical-align: top;\n",
              "    }\n",
              "\n",
              "    .dataframe thead th {\n",
              "        text-align: right;\n",
              "    }\n",
              "</style>\n",
              "<table border=\"1\" class=\"dataframe\">\n",
              "  <thead>\n",
              "    <tr style=\"text-align: right;\">\n",
              "      <th></th>\n",
              "      <th>count</th>\n",
              "      <th>mean</th>\n",
              "      <th>std</th>\n",
              "      <th>min</th>\n",
              "      <th>25%</th>\n",
              "      <th>50%</th>\n",
              "      <th>75%</th>\n",
              "      <th>max</th>\n",
              "    </tr>\n",
              "  </thead>\n",
              "  <tbody>\n",
              "    <tr>\n",
              "      <th>id_linha</th>\n",
              "      <td>10000.0</td>\n",
              "      <td>5000.50</td>\n",
              "      <td>2886.90</td>\n",
              "      <td>1.00</td>\n",
              "      <td>2500.75</td>\n",
              "      <td>5000.50</td>\n",
              "      <td>7500.25</td>\n",
              "      <td>10000.00</td>\n",
              "    </tr>\n",
              "    <tr>\n",
              "      <th>id_cliente</th>\n",
              "      <td>10000.0</td>\n",
              "      <td>15690940.57</td>\n",
              "      <td>71936.19</td>\n",
              "      <td>15565701.00</td>\n",
              "      <td>15628528.25</td>\n",
              "      <td>15690738.00</td>\n",
              "      <td>15753233.75</td>\n",
              "      <td>15815690.00</td>\n",
              "    </tr>\n",
              "    <tr>\n",
              "      <th>pontuacao_credito</th>\n",
              "      <td>10000.0</td>\n",
              "      <td>650.53</td>\n",
              "      <td>96.65</td>\n",
              "      <td>350.00</td>\n",
              "      <td>584.00</td>\n",
              "      <td>652.00</td>\n",
              "      <td>718.00</td>\n",
              "      <td>850.00</td>\n",
              "    </tr>\n",
              "    <tr>\n",
              "      <th>idade</th>\n",
              "      <td>10000.0</td>\n",
              "      <td>38.92</td>\n",
              "      <td>10.49</td>\n",
              "      <td>18.00</td>\n",
              "      <td>32.00</td>\n",
              "      <td>37.00</td>\n",
              "      <td>44.00</td>\n",
              "      <td>92.00</td>\n",
              "    </tr>\n",
              "    <tr>\n",
              "      <th>tempo_cadastro_banco</th>\n",
              "      <td>10000.0</td>\n",
              "      <td>5.01</td>\n",
              "      <td>2.89</td>\n",
              "      <td>0.00</td>\n",
              "      <td>3.00</td>\n",
              "      <td>5.00</td>\n",
              "      <td>7.00</td>\n",
              "      <td>10.00</td>\n",
              "    </tr>\n",
              "    <tr>\n",
              "      <th>saldo_bancario</th>\n",
              "      <td>10000.0</td>\n",
              "      <td>76485.89</td>\n",
              "      <td>62397.41</td>\n",
              "      <td>0.00</td>\n",
              "      <td>0.00</td>\n",
              "      <td>97198.54</td>\n",
              "      <td>127644.24</td>\n",
              "      <td>250898.09</td>\n",
              "    </tr>\n",
              "    <tr>\n",
              "      <th>qtd_produtos</th>\n",
              "      <td>10000.0</td>\n",
              "      <td>1.53</td>\n",
              "      <td>0.58</td>\n",
              "      <td>1.00</td>\n",
              "      <td>1.00</td>\n",
              "      <td>1.00</td>\n",
              "      <td>2.00</td>\n",
              "      <td>4.00</td>\n",
              "    </tr>\n",
              "    <tr>\n",
              "      <th>possui_cartao</th>\n",
              "      <td>10000.0</td>\n",
              "      <td>0.71</td>\n",
              "      <td>0.46</td>\n",
              "      <td>0.00</td>\n",
              "      <td>0.00</td>\n",
              "      <td>1.00</td>\n",
              "      <td>1.00</td>\n",
              "      <td>1.00</td>\n",
              "    </tr>\n",
              "    <tr>\n",
              "      <th>cliente_ativo</th>\n",
              "      <td>10000.0</td>\n",
              "      <td>0.52</td>\n",
              "      <td>0.50</td>\n",
              "      <td>0.00</td>\n",
              "      <td>0.00</td>\n",
              "      <td>1.00</td>\n",
              "      <td>1.00</td>\n",
              "      <td>1.00</td>\n",
              "    </tr>\n",
              "    <tr>\n",
              "      <th>salario_estimado</th>\n",
              "      <td>10000.0</td>\n",
              "      <td>100090.24</td>\n",
              "      <td>57510.49</td>\n",
              "      <td>11.58</td>\n",
              "      <td>51002.11</td>\n",
              "      <td>100193.92</td>\n",
              "      <td>149388.25</td>\n",
              "      <td>199992.48</td>\n",
              "    </tr>\n",
              "    <tr>\n",
              "      <th>conta_encerrada</th>\n",
              "      <td>10000.0</td>\n",
              "      <td>0.20</td>\n",
              "      <td>0.40</td>\n",
              "      <td>0.00</td>\n",
              "      <td>0.00</td>\n",
              "      <td>0.00</td>\n",
              "      <td>0.00</td>\n",
              "      <td>1.00</td>\n",
              "    </tr>\n",
              "  </tbody>\n",
              "</table>\n",
              "</div>"
            ],
            "text/plain": [
              "                        count         mean  ...          75%          max\n",
              "id_linha              10000.0      5000.50  ...      7500.25     10000.00\n",
              "id_cliente            10000.0  15690940.57  ...  15753233.75  15815690.00\n",
              "pontuacao_credito     10000.0       650.53  ...       718.00       850.00\n",
              "idade                 10000.0        38.92  ...        44.00        92.00\n",
              "tempo_cadastro_banco  10000.0         5.01  ...         7.00        10.00\n",
              "saldo_bancario        10000.0     76485.89  ...    127644.24    250898.09\n",
              "qtd_produtos          10000.0         1.53  ...         2.00         4.00\n",
              "possui_cartao         10000.0         0.71  ...         1.00         1.00\n",
              "cliente_ativo         10000.0         0.52  ...         1.00         1.00\n",
              "salario_estimado      10000.0    100090.24  ...    149388.25    199992.48\n",
              "conta_encerrada       10000.0         0.20  ...         0.00         1.00\n",
              "\n",
              "[11 rows x 8 columns]"
            ]
          },
          "metadata": {
            "tags": []
          },
          "execution_count": 165
        }
      ]
    },
    {
      "cell_type": "markdown",
      "metadata": {
        "id": "dkmxPsK-aSNE"
      },
      "source": [
        "De acordo com a tabela, aparentemente a variável `saldo_bancario` apresenta outliers. Vamos verificar essa variável de perto."
      ]
    },
    {
      "cell_type": "code",
      "metadata": {
        "colab": {
          "base_uri": "https://localhost:8080/",
          "height": 369
        },
        "id": "UG2itrxVaUHB",
        "outputId": "dab61e12-7fe5-4a6d-ad95-1bdecc95aa70"
      },
      "source": [
        "# Criar boxplot da variável saldo_bancario\n",
        "sns.displot(df['saldo_bancario']);"
      ],
      "execution_count": 166,
      "outputs": [
        {
          "output_type": "display_data",
          "data": {
            "image/png": "[encoded data removed]",
            "text/plain": [
              "<Figure size 360x360 with 1 Axes>"
            ]
          },
          "metadata": {
            "tags": [],
            "needs_background": "light"
          }
        }
      ]
    },
    {
      "cell_type": "markdown",
      "metadata": {
        "id": "so-rco60itvE"
      },
      "source": [
        "Verificar em nossa variável target como está a distribuição de valores entre usuários que encerraram a conta."
      ]
    },
    {
      "cell_type": "code",
      "metadata": {
        "colab": {
          "base_uri": "https://localhost:8080/",
          "height": 330
        },
        "id": "f_LOVLzBifkz",
        "outputId": "9d2f845d-0acd-4f38-c208-de59f54007bc"
      },
      "source": [
        "# Criar visualização deste resultado.\n",
        "print(df['conta_encerrada'].value_counts(normalize=True))\n",
        "sns.countplot(data=df, x='conta_encerrada');"
      ],
      "execution_count": 167,
      "outputs": [
        {
          "output_type": "stream",
          "text": [
            "0    0.7963\n",
            "1    0.2037\n",
            "Name: conta_encerrada, dtype: float64\n"
          ],
          "name": "stdout"
        },
        {
          "output_type": "display_data",
          "data": {
            "image/png": "[encoded data removed]",
            "text/plain": [
              "<Figure size 432x288 with 1 Axes>"
            ]
          },
          "metadata": {
            "tags": [],
            "needs_background": "light"
          }
        }
      ]
    },
    {
      "cell_type": "markdown",
      "metadata": {
        "id": "LO4bmMuhjFSi"
      },
      "source": [
        "Esse gráfico acima mostra que existe um certo desbalanceamento em relação ao dados e que pode impactar futuramente em nosso modelo, por este motivo, criaremos uma função para ajustar esse desbalanceamento."
      ]
    },
    {
      "cell_type": "code",
      "metadata": {
        "id": "jBrMP24Ao_69"
      },
      "source": [
        "# Criando função com intuito de ajustar o desbalanceamento dos dados.\n",
        "def UnderOverSampling(dados, under = 1, over = 1):\n",
        "  np.random.seed(42)\n",
        "  classe0 = dados[dados['conta_encerrada']==0]\n",
        "  classe1 = dados[dados['conta_encerrada']==1]\n",
        "\n",
        "  amostra0 = classe0.sample(under * classe1.shape[0], replace=True)\n",
        "  amostra1 = pd.concat([classe1]* over, ignore_index=True)\n",
        "\n",
        "  tudo = pd.concat([amostra0, amostra1])\n",
        "\n",
        "  return tudo"
      ],
      "execution_count": 168,
      "outputs": []
    },
    {
      "cell_type": "code",
      "metadata": {
        "id": "3qEwfHLPpAEM"
      },
      "source": [
        "df_ajustado = UnderOverSampling(df, under=3, over = 2)"
      ],
      "execution_count": 169,
      "outputs": []
    },
    {
      "cell_type": "code",
      "metadata": {
        "colab": {
          "base_uri": "https://localhost:8080/",
          "height": 223
        },
        "id": "2seqVjwRrECt",
        "outputId": "37079f3f-d582-4b10-cec4-edba3796840c"
      },
      "source": [
        "df_ajustado.head()"
      ],
      "execution_count": 170,
      "outputs": [
        {
          "output_type": "execute_result",
          "data": {
            "text/html": [
              "<div>\n",
              "<style scoped>\n",
              "    .dataframe tbody tr th:only-of-type {\n",
              "        vertical-align: middle;\n",
              "    }\n",
              "\n",
              "    .dataframe tbody tr th {\n",
              "        vertical-align: top;\n",
              "    }\n",
              "\n",
              "    .dataframe thead th {\n",
              "        text-align: right;\n",
              "    }\n",
              "</style>\n",
              "<table border=\"1\" class=\"dataframe\">\n",
              "  <thead>\n",
              "    <tr style=\"text-align: right;\">\n",
              "      <th></th>\n",
              "      <th>id_linha</th>\n",
              "      <th>id_cliente</th>\n",
              "      <th>sobrenome</th>\n",
              "      <th>pontuacao_credito</th>\n",
              "      <th>pais_origem</th>\n",
              "      <th>genero</th>\n",
              "      <th>idade</th>\n",
              "      <th>tempo_cadastro_banco</th>\n",
              "      <th>saldo_bancario</th>\n",
              "      <th>qtd_produtos</th>\n",
              "      <th>possui_cartao</th>\n",
              "      <th>cliente_ativo</th>\n",
              "      <th>salario_estimado</th>\n",
              "      <th>conta_encerrada</th>\n",
              "    </tr>\n",
              "  </thead>\n",
              "  <tbody>\n",
              "    <tr>\n",
              "      <th>9161</th>\n",
              "      <td>9162</td>\n",
              "      <td>15750049</td>\n",
              "      <td>Steele</td>\n",
              "      <td>621</td>\n",
              "      <td>France</td>\n",
              "      <td>Male</td>\n",
              "      <td>40</td>\n",
              "      <td>10</td>\n",
              "      <td>163823.37</td>\n",
              "      <td>1</td>\n",
              "      <td>0</td>\n",
              "      <td>0</td>\n",
              "      <td>89519.47</td>\n",
              "      <td>0</td>\n",
              "    </tr>\n",
              "    <tr>\n",
              "      <th>9567</th>\n",
              "      <td>9568</td>\n",
              "      <td>15696733</td>\n",
              "      <td>McKenzie</td>\n",
              "      <td>724</td>\n",
              "      <td>France</td>\n",
              "      <td>Male</td>\n",
              "      <td>29</td>\n",
              "      <td>4</td>\n",
              "      <td>0.00</td>\n",
              "      <td>1</td>\n",
              "      <td>1</td>\n",
              "      <td>0</td>\n",
              "      <td>8982.75</td>\n",
              "      <td>0</td>\n",
              "    </tr>\n",
              "    <tr>\n",
              "      <th>1083</th>\n",
              "      <td>1084</td>\n",
              "      <td>15692583</td>\n",
              "      <td>Udobata</td>\n",
              "      <td>678</td>\n",
              "      <td>France</td>\n",
              "      <td>Female</td>\n",
              "      <td>32</td>\n",
              "      <td>5</td>\n",
              "      <td>0.00</td>\n",
              "      <td>2</td>\n",
              "      <td>1</td>\n",
              "      <td>0</td>\n",
              "      <td>90284.47</td>\n",
              "      <td>0</td>\n",
              "    </tr>\n",
              "    <tr>\n",
              "      <th>6792</th>\n",
              "      <td>6793</td>\n",
              "      <td>15776096</td>\n",
              "      <td>Halpern</td>\n",
              "      <td>606</td>\n",
              "      <td>Spain</td>\n",
              "      <td>Male</td>\n",
              "      <td>34</td>\n",
              "      <td>3</td>\n",
              "      <td>161572.24</td>\n",
              "      <td>1</td>\n",
              "      <td>0</td>\n",
              "      <td>1</td>\n",
              "      <td>191076.22</td>\n",
              "      <td>0</td>\n",
              "    </tr>\n",
              "    <tr>\n",
              "      <th>6595</th>\n",
              "      <td>6596</td>\n",
              "      <td>15734948</td>\n",
              "      <td>Igwebuike</td>\n",
              "      <td>601</td>\n",
              "      <td>Spain</td>\n",
              "      <td>Male</td>\n",
              "      <td>24</td>\n",
              "      <td>7</td>\n",
              "      <td>0.00</td>\n",
              "      <td>2</td>\n",
              "      <td>0</td>\n",
              "      <td>0</td>\n",
              "      <td>144660.42</td>\n",
              "      <td>0</td>\n",
              "    </tr>\n",
              "  </tbody>\n",
              "</table>\n",
              "</div>"
            ],
            "text/plain": [
              "      id_linha  id_cliente  ... salario_estimado  conta_encerrada\n",
              "9161      9162    15750049  ...         89519.47                0\n",
              "9567      9568    15696733  ...          8982.75                0\n",
              "1083      1084    15692583  ...         90284.47                0\n",
              "6792      6793    15776096  ...        191076.22                0\n",
              "6595      6596    15734948  ...        144660.42                0\n",
              "\n",
              "[5 rows x 14 columns]"
            ]
          },
          "metadata": {
            "tags": []
          },
          "execution_count": 170
        }
      ]
    },
    {
      "cell_type": "code",
      "metadata": {
        "colab": {
          "base_uri": "https://localhost:8080/",
          "height": 330
        },
        "id": "xewrrRZ2pAG8",
        "outputId": "00f1cb94-323d-49ea-8f99-6a7ee96bae3c"
      },
      "source": [
        "# Criar visualização deste resultado.\n",
        "print(df_ajustado['conta_encerrada'].value_counts(normalize=True))\n",
        "sns.countplot(data=df_ajustado, x='conta_encerrada');"
      ],
      "execution_count": 171,
      "outputs": [
        {
          "output_type": "stream",
          "text": [
            "0    0.6\n",
            "1    0.4\n",
            "Name: conta_encerrada, dtype: float64\n"
          ],
          "name": "stdout"
        },
        {
          "output_type": "display_data",
          "data": {
            "image/png": "[encoded data removed]",
            "text/plain": [
              "<Figure size 432x288 with 1 Axes>"
            ]
          },
          "metadata": {
            "tags": [],
            "needs_background": "light"
          }
        }
      ]
    },
    {
      "cell_type": "markdown",
      "metadata": {
        "id": "WtSPGzFebNN8"
      },
      "source": [
        "Observamos que há uma grande quantidade de dados onde os usuários não possuem saldo bancário. Vamos verificar se apresenta algum impacto nas contas encerradas."
      ]
    },
    {
      "cell_type": "code",
      "metadata": {
        "colab": {
          "base_uri": "https://localhost:8080/",
          "height": 351
        },
        "id": "kGEcSf15bk1T",
        "outputId": "c6adae2a-fd20-4d1f-e3b9-b7ce0e5ee2a8"
      },
      "source": [
        "# Vamos analisar se há algum impacto no fechamento de conta em usuários que não possuem saldo bancário.\n",
        "df_sem_saldo = df.query(\"saldo_bancario==0\")\n",
        "df_sem_saldo_2 = df_ajustado.query(\"saldo_bancario==0\")\n",
        "\n",
        "fig, (ax1, ax2) =  plt.subplots(1,2, figsize=(12,5))\n",
        "\n",
        "ax1.set_title('Gráfico desbalanceado')\n",
        "sns.countplot(data=df_sem_saldo, x='conta_encerrada', ax=ax1)\n",
        "\n",
        "ax2.set_title('Gráfico menos desbalanceado')\n",
        "sns.countplot(data=df_sem_saldo_2, x='conta_encerrada', ax=ax2);"
      ],
      "execution_count": 172,
      "outputs": [
        {
          "output_type": "display_data",
          "data": {
            "image/png": "[encoded data removed]",
            "text/plain": [
              "<Figure size 864x360 with 2 Axes>"
            ]
          },
          "metadata": {
            "tags": [],
            "needs_background": "light"
          }
        }
      ]
    },
    {
      "cell_type": "markdown",
      "metadata": {
        "id": "FbodgEFzbk9d"
      },
      "source": [
        "Não há um impacto forte nas contas encerradas, porém continua sendo um ponto de atenção essa quantidade de contas sem saldo, possivelmente criaremos uma coluna de verificação se há saldo ou não."
      ]
    },
    {
      "cell_type": "code",
      "metadata": {
        "colab": {
          "base_uri": "https://localhost:8080/",
          "height": 425
        },
        "id": "Nw-L5U3sS5td",
        "outputId": "8a327c68-fd9b-45e2-d5e7-1b70e1a4b6d8"
      },
      "source": [
        "# Vamos entender como os dados se relacionam entre si\n",
        "corr = df.iloc[:,2:].corr()\n",
        "\n",
        "# plotar os dados de correlação\n",
        "plt.figure(figsize=(12,5))\n",
        "mask = np.triu(np.ones_like(corr, dtype=bool))\n",
        "sns.heatmap(corr, annot=True,mask=mask);"
      ],
      "execution_count": 173,
      "outputs": [
        {
          "output_type": "display_data",
          "data": {
            "image/png": "[encoded data removed]",
            "text/plain": [
              "<Figure size 864x360 with 2 Axes>"
            ]
          },
          "metadata": {
            "tags": [],
            "needs_background": "light"
          }
        }
      ]
    },
    {
      "cell_type": "markdown",
      "metadata": {
        "id": "j1v-Rsc3Wrt0"
      },
      "source": [
        "Não há muita relação de nossa variável target (conta_encerrada) com as outras variáveis, com excessão da idade que apresenta 29%, porém ainda trata-se de uma correlação positiva fraca. Isso pode impactar na performance dos nossos modelos."
      ]
    },
    {
      "cell_type": "code",
      "metadata": {
        "colab": {
          "base_uri": "https://localhost:8080/",
          "height": 280
        },
        "id": "Jm8TIa2dS51L",
        "outputId": "33b77d1e-972c-4f12-90d7-6fcf10187e3c"
      },
      "source": [
        "# Vamos verificar o saldo por país.\n",
        "sns.boxplot(data=df, y='saldo_bancario', x='pais_origem');"
      ],
      "execution_count": 174,
      "outputs": [
        {
          "output_type": "display_data",
          "data": {
            "image/png": "[encoded data removed]",
            "text/plain": [
              "<Figure size 432x288 with 1 Axes>"
            ]
          },
          "metadata": {
            "tags": [],
            "needs_background": "light"
          }
        }
      ]
    },
    {
      "cell_type": "code",
      "metadata": {
        "colab": {
          "base_uri": "https://localhost:8080/",
          "height": 265
        },
        "id": "r9xWowdFYR37",
        "outputId": "7fa31c1d-8e29-45cc-d348-7b8ae6c12920"
      },
      "source": [
        "# Análise se há alguma diferenciação na hora do encerramento da conta\n",
        "df[['conta_encerrada','pais_origem', 'saldo_bancario']].groupby(['pais_origem','conta_encerrada']).mean()"
      ],
      "execution_count": 175,
      "outputs": [
        {
          "output_type": "execute_result",
          "data": {
            "text/html": [
              "<div>\n",
              "<style scoped>\n",
              "    .dataframe tbody tr th:only-of-type {\n",
              "        vertical-align: middle;\n",
              "    }\n",
              "\n",
              "    .dataframe tbody tr th {\n",
              "        vertical-align: top;\n",
              "    }\n",
              "\n",
              "    .dataframe thead th {\n",
              "        text-align: right;\n",
              "    }\n",
              "</style>\n",
              "<table border=\"1\" class=\"dataframe\">\n",
              "  <thead>\n",
              "    <tr style=\"text-align: right;\">\n",
              "      <th></th>\n",
              "      <th></th>\n",
              "      <th>saldo_bancario</th>\n",
              "    </tr>\n",
              "    <tr>\n",
              "      <th>pais_origem</th>\n",
              "      <th>conta_encerrada</th>\n",
              "      <th></th>\n",
              "    </tr>\n",
              "  </thead>\n",
              "  <tbody>\n",
              "    <tr>\n",
              "      <th rowspan=\"2\" valign=\"top\">France</th>\n",
              "      <th>0</th>\n",
              "      <td>60339.275678</td>\n",
              "    </tr>\n",
              "    <tr>\n",
              "      <th>1</th>\n",
              "      <td>71192.795728</td>\n",
              "    </tr>\n",
              "    <tr>\n",
              "      <th rowspan=\"2\" valign=\"top\">Germany</th>\n",
              "      <th>0</th>\n",
              "      <td>119427.106696</td>\n",
              "    </tr>\n",
              "    <tr>\n",
              "      <th>1</th>\n",
              "      <td>120361.075590</td>\n",
              "    </tr>\n",
              "    <tr>\n",
              "      <th rowspan=\"2\" valign=\"top\">Spain</th>\n",
              "      <th>0</th>\n",
              "      <td>59678.070470</td>\n",
              "    </tr>\n",
              "    <tr>\n",
              "      <th>1</th>\n",
              "      <td>72513.352446</td>\n",
              "    </tr>\n",
              "  </tbody>\n",
              "</table>\n",
              "</div>"
            ],
            "text/plain": [
              "                             saldo_bancario\n",
              "pais_origem conta_encerrada                \n",
              "France      0                  60339.275678\n",
              "            1                  71192.795728\n",
              "Germany     0                 119427.106696\n",
              "            1                 120361.075590\n",
              "Spain       0                  59678.070470\n",
              "            1                  72513.352446"
            ]
          },
          "metadata": {
            "tags": []
          },
          "execution_count": 175
        }
      ]
    },
    {
      "cell_type": "code",
      "metadata": {
        "colab": {
          "base_uri": "https://localhost:8080/",
          "height": 142
        },
        "id": "BaAbcJWee5fy",
        "outputId": "46231376-6666-4166-d978-3fef2eda541c"
      },
      "source": [
        "# Se há muita diferença na mediana para o encerramento das contas\n",
        "df[['conta_encerrada','idade']].groupby(['conta_encerrada']).median()"
      ],
      "execution_count": 176,
      "outputs": [
        {
          "output_type": "execute_result",
          "data": {
            "text/html": [
              "<div>\n",
              "<style scoped>\n",
              "    .dataframe tbody tr th:only-of-type {\n",
              "        vertical-align: middle;\n",
              "    }\n",
              "\n",
              "    .dataframe tbody tr th {\n",
              "        vertical-align: top;\n",
              "    }\n",
              "\n",
              "    .dataframe thead th {\n",
              "        text-align: right;\n",
              "    }\n",
              "</style>\n",
              "<table border=\"1\" class=\"dataframe\">\n",
              "  <thead>\n",
              "    <tr style=\"text-align: right;\">\n",
              "      <th></th>\n",
              "      <th>idade</th>\n",
              "    </tr>\n",
              "    <tr>\n",
              "      <th>conta_encerrada</th>\n",
              "      <th></th>\n",
              "    </tr>\n",
              "  </thead>\n",
              "  <tbody>\n",
              "    <tr>\n",
              "      <th>0</th>\n",
              "      <td>36</td>\n",
              "    </tr>\n",
              "    <tr>\n",
              "      <th>1</th>\n",
              "      <td>45</td>\n",
              "    </tr>\n",
              "  </tbody>\n",
              "</table>\n",
              "</div>"
            ],
            "text/plain": [
              "                 idade\n",
              "conta_encerrada       \n",
              "0                   36\n",
              "1                   45"
            ]
          },
          "metadata": {
            "tags": []
          },
          "execution_count": 176
        }
      ]
    },
    {
      "cell_type": "code",
      "metadata": {
        "colab": {
          "base_uri": "https://localhost:8080/",
          "height": 715
        },
        "id": "o8ni4yMofW0k",
        "outputId": "3b1494e0-9787-4589-a556-63c9c8f3be2a"
      },
      "source": [
        "variaveis = ['pontuacao_credito', 'idade', 'pais_origem', 'saldo_bancario', 'tempo_cadastro_banco', 'qtd_produtos', 'possui_cartao', 'cliente_ativo', 'salario_estimado']\n",
        "plt.figure(figsize=(20,12))\n",
        "\n",
        "for indice, coluna in enumerate(variaveis):\n",
        "  plt.subplot(3, 3, indice+1)  \n",
        "  sns.histplot(data=df, x=coluna, hue='conta_encerrada');"
      ],
      "execution_count": 177,
      "outputs": [
        {
          "output_type": "display_data",
          "data": {
            "image/png": "[encoded data removed]",
            "text/plain": [
              "<Figure size 1440x864 with 9 Axes>"
            ]
          },
          "metadata": {
            "tags": [],
            "needs_background": "light"
          }
        }
      ]
    },
    {
      "cell_type": "markdown",
      "metadata": {
        "id": "FXWwXjjeUZ9O"
      },
      "source": [
        "### 3.2 Preparação e limpeza dos dados"
      ]
    },
    {
      "cell_type": "code",
      "metadata": {
        "id": "MElN3iH8UZ9P",
        "colab": {
          "base_uri": "https://localhost:8080/",
          "height": 223
        },
        "outputId": "4da3c1fb-5a13-4d36-d1d8-b0c4aea539d2"
      },
      "source": [
        "# Visualizar novamente as 5 primeiras entradas\n",
        "df.head()"
      ],
      "execution_count": 178,
      "outputs": [
        {
          "output_type": "execute_result",
          "data": {
            "text/html": [
              "<div>\n",
              "<style scoped>\n",
              "    .dataframe tbody tr th:only-of-type {\n",
              "        vertical-align: middle;\n",
              "    }\n",
              "\n",
              "    .dataframe tbody tr th {\n",
              "        vertical-align: top;\n",
              "    }\n",
              "\n",
              "    .dataframe thead th {\n",
              "        text-align: right;\n",
              "    }\n",
              "</style>\n",
              "<table border=\"1\" class=\"dataframe\">\n",
              "  <thead>\n",
              "    <tr style=\"text-align: right;\">\n",
              "      <th></th>\n",
              "      <th>id_linha</th>\n",
              "      <th>id_cliente</th>\n",
              "      <th>sobrenome</th>\n",
              "      <th>pontuacao_credito</th>\n",
              "      <th>pais_origem</th>\n",
              "      <th>genero</th>\n",
              "      <th>idade</th>\n",
              "      <th>tempo_cadastro_banco</th>\n",
              "      <th>saldo_bancario</th>\n",
              "      <th>qtd_produtos</th>\n",
              "      <th>possui_cartao</th>\n",
              "      <th>cliente_ativo</th>\n",
              "      <th>salario_estimado</th>\n",
              "      <th>conta_encerrada</th>\n",
              "    </tr>\n",
              "  </thead>\n",
              "  <tbody>\n",
              "    <tr>\n",
              "      <th>0</th>\n",
              "      <td>1</td>\n",
              "      <td>15634602</td>\n",
              "      <td>Hargrave</td>\n",
              "      <td>619</td>\n",
              "      <td>France</td>\n",
              "      <td>Female</td>\n",
              "      <td>42</td>\n",
              "      <td>2</td>\n",
              "      <td>0.00</td>\n",
              "      <td>1</td>\n",
              "      <td>1</td>\n",
              "      <td>1</td>\n",
              "      <td>101348.88</td>\n",
              "      <td>1</td>\n",
              "    </tr>\n",
              "    <tr>\n",
              "      <th>1</th>\n",
              "      <td>2</td>\n",
              "      <td>15647311</td>\n",
              "      <td>Hill</td>\n",
              "      <td>608</td>\n",
              "      <td>Spain</td>\n",
              "      <td>Female</td>\n",
              "      <td>41</td>\n",
              "      <td>1</td>\n",
              "      <td>83807.86</td>\n",
              "      <td>1</td>\n",
              "      <td>0</td>\n",
              "      <td>1</td>\n",
              "      <td>112542.58</td>\n",
              "      <td>0</td>\n",
              "    </tr>\n",
              "    <tr>\n",
              "      <th>2</th>\n",
              "      <td>3</td>\n",
              "      <td>15619304</td>\n",
              "      <td>Onio</td>\n",
              "      <td>502</td>\n",
              "      <td>France</td>\n",
              "      <td>Female</td>\n",
              "      <td>42</td>\n",
              "      <td>8</td>\n",
              "      <td>159660.80</td>\n",
              "      <td>3</td>\n",
              "      <td>1</td>\n",
              "      <td>0</td>\n",
              "      <td>113931.57</td>\n",
              "      <td>1</td>\n",
              "    </tr>\n",
              "    <tr>\n",
              "      <th>3</th>\n",
              "      <td>4</td>\n",
              "      <td>15701354</td>\n",
              "      <td>Boni</td>\n",
              "      <td>699</td>\n",
              "      <td>France</td>\n",
              "      <td>Female</td>\n",
              "      <td>39</td>\n",
              "      <td>1</td>\n",
              "      <td>0.00</td>\n",
              "      <td>2</td>\n",
              "      <td>0</td>\n",
              "      <td>0</td>\n",
              "      <td>93826.63</td>\n",
              "      <td>0</td>\n",
              "    </tr>\n",
              "    <tr>\n",
              "      <th>4</th>\n",
              "      <td>5</td>\n",
              "      <td>15737888</td>\n",
              "      <td>Mitchell</td>\n",
              "      <td>850</td>\n",
              "      <td>Spain</td>\n",
              "      <td>Female</td>\n",
              "      <td>43</td>\n",
              "      <td>2</td>\n",
              "      <td>125510.82</td>\n",
              "      <td>1</td>\n",
              "      <td>1</td>\n",
              "      <td>1</td>\n",
              "      <td>79084.10</td>\n",
              "      <td>0</td>\n",
              "    </tr>\n",
              "  </tbody>\n",
              "</table>\n",
              "</div>"
            ],
            "text/plain": [
              "   id_linha  id_cliente  ... salario_estimado  conta_encerrada\n",
              "0         1    15634602  ...        101348.88                1\n",
              "1         2    15647311  ...        112542.58                0\n",
              "2         3    15619304  ...        113931.57                1\n",
              "3         4    15701354  ...         93826.63                0\n",
              "4         5    15737888  ...         79084.10                0\n",
              "\n",
              "[5 rows x 14 columns]"
            ]
          },
          "metadata": {
            "tags": []
          },
          "execution_count": 178
        }
      ]
    },
    {
      "cell_type": "code",
      "metadata": {
        "id": "5pn5LPZbUZ9h"
      },
      "source": [
        "# Selecionar apenas as colunas que utilizaremos para o modelo com os dados balanceados\n",
        "colunas_utilizadas = ['pontuacao_credito', 'pais_origem', 'genero','idade','tempo_cadastro_banco',\n",
        "                      'saldo_bancario','qtd_produtos','possui_cartao','cliente_ativo', 'salario_estimado', 'conta_encerrada']\n",
        "df_filtrado = df_ajustado[colunas_utilizadas].copy()                      "
      ],
      "execution_count": 179,
      "outputs": []
    },
    {
      "cell_type": "code",
      "metadata": {
        "id": "p_JhVzOKk0kD"
      },
      "source": [
        "# Transformar coluna genero para dado numero\n",
        "df_filtrado['genero'] = df_filtrado['genero'].map({'Female':1, 'Male':0})"
      ],
      "execution_count": 180,
      "outputs": []
    },
    {
      "cell_type": "code",
      "metadata": {
        "id": "bi-EBZtLk0nD"
      },
      "source": [
        "# Fazer o OneHotEncoding com o atributo de pais_origem\n",
        "df_filtrado = pd.get_dummies(df_filtrado, columns=['pais_origem'])"
      ],
      "execution_count": 181,
      "outputs": []
    },
    {
      "cell_type": "code",
      "metadata": {
        "colab": {
          "base_uri": "https://localhost:8080/",
          "height": 223
        },
        "id": "R-Nh3OwPk0pi",
        "outputId": "e399745e-35db-46ea-9f83-ac32297cf5ce"
      },
      "source": [
        "df_filtrado.head()"
      ],
      "execution_count": 182,
      "outputs": [
        {
          "output_type": "execute_result",
          "data": {
            "text/html": [
              "<div>\n",
              "<style scoped>\n",
              "    .dataframe tbody tr th:only-of-type {\n",
              "        vertical-align: middle;\n",
              "    }\n",
              "\n",
              "    .dataframe tbody tr th {\n",
              "        vertical-align: top;\n",
              "    }\n",
              "\n",
              "    .dataframe thead th {\n",
              "        text-align: right;\n",
              "    }\n",
              "</style>\n",
              "<table border=\"1\" class=\"dataframe\">\n",
              "  <thead>\n",
              "    <tr style=\"text-align: right;\">\n",
              "      <th></th>\n",
              "      <th>pontuacao_credito</th>\n",
              "      <th>genero</th>\n",
              "      <th>idade</th>\n",
              "      <th>tempo_cadastro_banco</th>\n",
              "      <th>saldo_bancario</th>\n",
              "      <th>qtd_produtos</th>\n",
              "      <th>possui_cartao</th>\n",
              "      <th>cliente_ativo</th>\n",
              "      <th>salario_estimado</th>\n",
              "      <th>conta_encerrada</th>\n",
              "      <th>pais_origem_France</th>\n",
              "      <th>pais_origem_Germany</th>\n",
              "      <th>pais_origem_Spain</th>\n",
              "    </tr>\n",
              "  </thead>\n",
              "  <tbody>\n",
              "    <tr>\n",
              "      <th>9161</th>\n",
              "      <td>621</td>\n",
              "      <td>0</td>\n",
              "      <td>40</td>\n",
              "      <td>10</td>\n",
              "      <td>163823.37</td>\n",
              "      <td>1</td>\n",
              "      <td>0</td>\n",
              "      <td>0</td>\n",
              "      <td>89519.47</td>\n",
              "      <td>0</td>\n",
              "      <td>1</td>\n",
              "      <td>0</td>\n",
              "      <td>0</td>\n",
              "    </tr>\n",
              "    <tr>\n",
              "      <th>9567</th>\n",
              "      <td>724</td>\n",
              "      <td>0</td>\n",
              "      <td>29</td>\n",
              "      <td>4</td>\n",
              "      <td>0.00</td>\n",
              "      <td>1</td>\n",
              "      <td>1</td>\n",
              "      <td>0</td>\n",
              "      <td>8982.75</td>\n",
              "      <td>0</td>\n",
              "      <td>1</td>\n",
              "      <td>0</td>\n",
              "      <td>0</td>\n",
              "    </tr>\n",
              "    <tr>\n",
              "      <th>1083</th>\n",
              "      <td>678</td>\n",
              "      <td>1</td>\n",
              "      <td>32</td>\n",
              "      <td>5</td>\n",
              "      <td>0.00</td>\n",
              "      <td>2</td>\n",
              "      <td>1</td>\n",
              "      <td>0</td>\n",
              "      <td>90284.47</td>\n",
              "      <td>0</td>\n",
              "      <td>1</td>\n",
              "      <td>0</td>\n",
              "      <td>0</td>\n",
              "    </tr>\n",
              "    <tr>\n",
              "      <th>6792</th>\n",
              "      <td>606</td>\n",
              "      <td>0</td>\n",
              "      <td>34</td>\n",
              "      <td>3</td>\n",
              "      <td>161572.24</td>\n",
              "      <td>1</td>\n",
              "      <td>0</td>\n",
              "      <td>1</td>\n",
              "      <td>191076.22</td>\n",
              "      <td>0</td>\n",
              "      <td>0</td>\n",
              "      <td>0</td>\n",
              "      <td>1</td>\n",
              "    </tr>\n",
              "    <tr>\n",
              "      <th>6595</th>\n",
              "      <td>601</td>\n",
              "      <td>0</td>\n",
              "      <td>24</td>\n",
              "      <td>7</td>\n",
              "      <td>0.00</td>\n",
              "      <td>2</td>\n",
              "      <td>0</td>\n",
              "      <td>0</td>\n",
              "      <td>144660.42</td>\n",
              "      <td>0</td>\n",
              "      <td>0</td>\n",
              "      <td>0</td>\n",
              "      <td>1</td>\n",
              "    </tr>\n",
              "  </tbody>\n",
              "</table>\n",
              "</div>"
            ],
            "text/plain": [
              "      pontuacao_credito  genero  ...  pais_origem_Germany  pais_origem_Spain\n",
              "9161                621       0  ...                    0                  0\n",
              "9567                724       0  ...                    0                  0\n",
              "1083                678       1  ...                    0                  0\n",
              "6792                606       0  ...                    0                  1\n",
              "6595                601       0  ...                    0                  1\n",
              "\n",
              "[5 rows x 13 columns]"
            ]
          },
          "metadata": {
            "tags": []
          },
          "execution_count": 182
        }
      ]
    },
    {
      "cell_type": "markdown",
      "metadata": {
        "id": "DdStjZbYUZ9h"
      },
      "source": [
        "### 3.3 Seleção de atributos"
      ]
    },
    {
      "cell_type": "code",
      "metadata": {
        "id": "BuedYBr3UZ9k"
      },
      "source": [
        "X = df_filtrado.drop('conta_encerrada', axis=1) \n",
        "y = df_filtrado['conta_encerrada']\n",
        "\n",
        "X_train, X_test, y_train, y_test = train_test_split(X, y, test_size=0.25, random_state=40)"
      ],
      "execution_count": 183,
      "outputs": []
    },
    {
      "cell_type": "markdown",
      "metadata": {
        "id": "sufzRcNRUZ9l"
      },
      "source": [
        "### 3.4 Construção do modelo"
      ]
    },
    {
      "cell_type": "code",
      "metadata": {
        "id": "LtkjU5hKvCPi"
      },
      "source": [
        "lista_de_modelos = [DecisionTreeClassifier(),\n",
        "                    RandomForestClassifier(),\n",
        "                    LogisticRegression(),\n",
        "                    SVC(),\n",
        "                    GaussianNB(),\n",
        "                    MLPClassifier(),\n",
        "                    LGBMClassifier(),\n",
        "                    XGBClassifier(),\n",
        "                    XGBRFClassifier()\n",
        "]"
      ],
      "execution_count": 186,
      "outputs": []
    },
    {
      "cell_type": "code",
      "metadata": {
        "id": "slYojsDevB4K"
      },
      "source": [
        "relatorio = {\n",
        "    'nome': [],\n",
        "    'acuracia_treino': [],\n",
        "    'acuracia_teste': [],\n",
        "    'cv_score_mean':[]\n",
        "}"
      ],
      "execution_count": 187,
      "outputs": []
    },
    {
      "cell_type": "code",
      "metadata": {
        "colab": {
          "base_uri": "https://localhost:8080/"
        },
        "id": "Ax_J0LNs0N1z",
        "outputId": "9eca043b-f6a1-4f11-d2b8-15cd04f2d46f"
      },
      "source": [
        "for clf in lista_de_modelos:\n",
        "  print(f'Treinando o modelo {clf.__class__.__name__}')\n",
        "  clf.fit(X_train, y_train)\n",
        "\n",
        "  acuracia_treino = clf.score(X_train, y_train)\n",
        "  acuracia_teste = clf.score(X_test, y_test)\n",
        "  cv_scores = cross_val_score(clf, X_train, y_train)\n",
        "\n",
        "  print(f'Acuracia treino: {acuracia_treino}')\n",
        "  print(f'Acuracia teste: {acuracia_teste}')\n",
        "  print(f'Validação: {np.mean(cv_scores):.2f} +- {np.std(cv_scores):.2f}')\n",
        "  print('-'*70)\n",
        "\n",
        "  relatorio['nome'].append(clf.__class__.__name__)\n",
        "  relatorio['acuracia_treino'].append(acuracia_treino)\n",
        "  relatorio['acuracia_teste'].append(acuracia_teste)\n",
        "  relatorio['cv_score_mean'].append(np.mean(cv_scores))"
      ],
      "execution_count": 193,
      "outputs": [
        {
          "output_type": "stream",
          "text": [
            "Treinando o modelo DecisionTreeClassifier\n",
            "Acuracia treino: 1.0\n",
            "Acuracia teste: 0.9053788771103258\n",
            "Validação: 0.85 +- 0.01\n",
            "----------------------------------------------------------------------\n",
            "Treinando o modelo RandomForestClassifier\n",
            "Acuracia treino: 1.0\n",
            "Acuracia teste: 0.933647428347075\n",
            "Validação: 0.90 +- 0.01\n",
            "----------------------------------------------------------------------\n",
            "Treinando o modelo LogisticRegression\n",
            "Acuracia treino: 0.6726891856506939\n",
            "Acuracia teste: 0.6690223792697291\n",
            "Validação: 0.67 +- 0.01\n",
            "----------------------------------------------------------------------\n",
            "Treinando o modelo SVC\n",
            "Acuracia treino: 0.6040848389630793\n",
            "Acuracia teste: 0.5877502944640753\n",
            "Validação: 0.60 +- 0.00\n",
            "----------------------------------------------------------------------\n",
            "Treinando o modelo GaussianNB\n",
            "Acuracia treino: 0.6986122021471589\n",
            "Acuracia teste: 0.6984687868080094\n",
            "Validação: 0.70 +- 0.01\n",
            "----------------------------------------------------------------------\n",
            "Treinando o modelo MLPClassifier\n"
          ],
          "name": "stdout"
        },
        {
          "output_type": "stream",
          "text": [
            "/usr/local/lib/python3.7/dist-packages/sklearn/neural_network/_multilayer_perceptron.py:571: ConvergenceWarning: Stochastic Optimizer: Maximum iterations (200) reached and the optimization hasn't converged yet.\n",
            "  % self.max_iter, ConvergenceWarning)\n",
            "/usr/local/lib/python3.7/dist-packages/sklearn/neural_network/_multilayer_perceptron.py:571: ConvergenceWarning: Stochastic Optimizer: Maximum iterations (200) reached and the optimization hasn't converged yet.\n",
            "  % self.max_iter, ConvergenceWarning)\n",
            "/usr/local/lib/python3.7/dist-packages/sklearn/neural_network/_multilayer_perceptron.py:571: ConvergenceWarning: Stochastic Optimizer: Maximum iterations (200) reached and the optimization hasn't converged yet.\n",
            "  % self.max_iter, ConvergenceWarning)\n",
            "/usr/local/lib/python3.7/dist-packages/sklearn/neural_network/_multilayer_perceptron.py:571: ConvergenceWarning: Stochastic Optimizer: Maximum iterations (200) reached and the optimization hasn't converged yet.\n",
            "  % self.max_iter, ConvergenceWarning)\n",
            "/usr/local/lib/python3.7/dist-packages/sklearn/neural_network/_multilayer_perceptron.py:571: ConvergenceWarning: Stochastic Optimizer: Maximum iterations (200) reached and the optimization hasn't converged yet.\n",
            "  % self.max_iter, ConvergenceWarning)\n",
            "/usr/local/lib/python3.7/dist-packages/sklearn/neural_network/_multilayer_perceptron.py:571: ConvergenceWarning: Stochastic Optimizer: Maximum iterations (200) reached and the optimization hasn't converged yet.\n",
            "  % self.max_iter, ConvergenceWarning)\n"
          ],
          "name": "stderr"
        },
        {
          "output_type": "stream",
          "text": [
            "Acuracia treino: 0.6764859910971458\n",
            "Acuracia teste: 0.6568511974872399\n",
            "Validação: 0.53 +- 0.06\n",
            "----------------------------------------------------------------------\n",
            "Treinando o modelo LGBMClassifier\n",
            "Acuracia treino: 0.905210788164441\n",
            "Acuracia teste: 0.8413820180604633\n",
            "Validação: 0.84 +- 0.01\n",
            "----------------------------------------------------------------------\n",
            "Treinando o modelo XGBClassifier\n",
            "Acuracia treino: 0.8180151872217858\n",
            "Acuracia teste: 0.7970160973694542\n",
            "Validação: 0.80 +- 0.01\n",
            "----------------------------------------------------------------------\n"
          ],
          "name": "stdout"
        }
      ]
    },
    {
      "cell_type": "markdown",
      "metadata": {
        "id": "7fpnhjL4UZ9p"
      },
      "source": [
        "### 3.5 Avaliação do modelo"
      ]
    },
    {
      "cell_type": "code",
      "metadata": {
        "id": "2jH60PWlUZ9y",
        "colab": {
          "base_uri": "https://localhost:8080/",
          "height": 295
        },
        "outputId": "62b3ce8e-c7eb-4bcf-fc32-ac95ae357e74"
      },
      "source": [
        "relatorio = pd.DataFrame(relatorio).sort_values(by='cv_score_mean', ascending=False)\n",
        "relatorio"
      ],
      "execution_count": 196,
      "outputs": [
        {
          "output_type": "execute_result",
          "data": {
            "text/html": [
              "<div>\n",
              "<style scoped>\n",
              "    .dataframe tbody tr th:only-of-type {\n",
              "        vertical-align: middle;\n",
              "    }\n",
              "\n",
              "    .dataframe tbody tr th {\n",
              "        vertical-align: top;\n",
              "    }\n",
              "\n",
              "    .dataframe thead th {\n",
              "        text-align: right;\n",
              "    }\n",
              "</style>\n",
              "<table border=\"1\" class=\"dataframe\">\n",
              "  <thead>\n",
              "    <tr style=\"text-align: right;\">\n",
              "      <th></th>\n",
              "      <th>nome</th>\n",
              "      <th>acuracia_treino</th>\n",
              "      <th>acuracia_teste</th>\n",
              "      <th>cv_score_mean</th>\n",
              "    </tr>\n",
              "  </thead>\n",
              "  <tbody>\n",
              "    <tr>\n",
              "      <th>1</th>\n",
              "      <td>RandomForestClassifier</td>\n",
              "      <td>1.000000</td>\n",
              "      <td>0.933647</td>\n",
              "      <td>0.898404</td>\n",
              "    </tr>\n",
              "    <tr>\n",
              "      <th>0</th>\n",
              "      <td>DecisionTreeClassifier</td>\n",
              "      <td>1.000000</td>\n",
              "      <td>0.905379</td>\n",
              "      <td>0.853104</td>\n",
              "    </tr>\n",
              "    <tr>\n",
              "      <th>6</th>\n",
              "      <td>LGBMClassifier</td>\n",
              "      <td>0.905211</td>\n",
              "      <td>0.841382</td>\n",
              "      <td>0.843023</td>\n",
              "    </tr>\n",
              "    <tr>\n",
              "      <th>7</th>\n",
              "      <td>XGBClassifier</td>\n",
              "      <td>0.818015</td>\n",
              "      <td>0.797016</td>\n",
              "      <td>0.804792</td>\n",
              "    </tr>\n",
              "    <tr>\n",
              "      <th>4</th>\n",
              "      <td>GaussianNB</td>\n",
              "      <td>0.698612</td>\n",
              "      <td>0.698469</td>\n",
              "      <td>0.698874</td>\n",
              "    </tr>\n",
              "    <tr>\n",
              "      <th>2</th>\n",
              "      <td>LogisticRegression</td>\n",
              "      <td>0.672689</td>\n",
              "      <td>0.669022</td>\n",
              "      <td>0.673213</td>\n",
              "    </tr>\n",
              "    <tr>\n",
              "      <th>3</th>\n",
              "      <td>SVC</td>\n",
              "      <td>0.604085</td>\n",
              "      <td>0.587750</td>\n",
              "      <td>0.604085</td>\n",
              "    </tr>\n",
              "    <tr>\n",
              "      <th>5</th>\n",
              "      <td>MLPClassifier</td>\n",
              "      <td>0.676486</td>\n",
              "      <td>0.656851</td>\n",
              "      <td>0.528012</td>\n",
              "    </tr>\n",
              "  </tbody>\n",
              "</table>\n",
              "</div>"
            ],
            "text/plain": [
              "                     nome  acuracia_treino  acuracia_teste  cv_score_mean\n",
              "1  RandomForestClassifier         1.000000        0.933647       0.898404\n",
              "0  DecisionTreeClassifier         1.000000        0.905379       0.853104\n",
              "6          LGBMClassifier         0.905211        0.841382       0.843023\n",
              "7           XGBClassifier         0.818015        0.797016       0.804792\n",
              "4              GaussianNB         0.698612        0.698469       0.698874\n",
              "2      LogisticRegression         0.672689        0.669022       0.673213\n",
              "3                     SVC         0.604085        0.587750       0.604085\n",
              "5           MLPClassifier         0.676486        0.656851       0.528012"
            ]
          },
          "metadata": {
            "tags": []
          },
          "execution_count": 196
        }
      ]
    },
    {
      "cell_type": "markdown",
      "metadata": {
        "id": "rADoy7YR6pRb"
      },
      "source": [
        "O modelo com maior perfomance tanto em acurácia nos dados de teste, quanto na validação cruzada foi o RandomForestClassifier, superando a acurácia solicitada."
      ]
    },
    {
      "cell_type": "code",
      "metadata": {
        "id": "e70r22vJ7PmH"
      },
      "source": [
        "predicoes = RandomForestClassifier().fit(X_train, y_train).predict_proba(X_test)\n",
        "proba = predicoes[:,1]"
      ],
      "execution_count": 199,
      "outputs": []
    },
    {
      "cell_type": "code",
      "metadata": {
        "id": "84LTKcm3UZ90"
      },
      "source": [
        "# Traçar a AUC - ROC \n",
        "fpr, tpr, thresholds = roc_curve(y_test, proba)"
      ],
      "execution_count": 203,
      "outputs": []
    },
    {
      "cell_type": "code",
      "metadata": {
        "colab": {
          "base_uri": "https://localhost:8080/",
          "height": 265
        },
        "id": "y55bCw1u8Coi",
        "outputId": "ce158935-0b98-451a-cd99-2f92c84d0e05"
      },
      "source": [
        "sns.lineplot(x=fpr, y=tpr);"
      ],
      "execution_count": 206,
      "outputs": [
        {
          "output_type": "display_data",
          "data": {
            "image/png": "[encoded data removed]",
            "text/plain": [
              "<Figure size 432x288 with 1 Axes>"
            ]
          },
          "metadata": {
            "tags": [],
            "needs_background": "light"
          }
        }
      ]
    },
    {
      "cell_type": "code",
      "metadata": {
        "colab": {
          "base_uri": "https://localhost:8080/"
        },
        "id": "jhyIowsI8RpT",
        "outputId": "ed57602a-c5ea-4790-9f6c-385937450993"
      },
      "source": [
        "print(roc_auc_score(y_test, proba))"
      ],
      "execution_count": 208,
      "outputs": [
        {
          "output_type": "stream",
          "text": [
            "0.9706059738524669\n"
          ],
          "name": "stdout"
        }
      ]
    },
    {
      "cell_type": "markdown",
      "metadata": {
        "id": "BLkdBF6TUZ91"
      },
      "source": [
        "### 3.4 Otimização do modelo"
      ]
    },
    {
      "cell_type": "code",
      "metadata": {
        "id": "m_Fc3uDUUZ92"
      },
      "source": [
        "rfn = RandomForestClassifier()"
      ],
      "execution_count": 210,
      "outputs": []
    },
    {
      "cell_type": "code",
      "metadata": {
        "colab": {
          "base_uri": "https://localhost:8080/"
        },
        "id": "2VWgc8Z1_qdp",
        "outputId": "2168bfb4-94bf-49e7-9b94-78469a772ee5"
      },
      "source": [
        "RandomForestClassifier()"
      ],
      "execution_count": 215,
      "outputs": [
        {
          "output_type": "execute_result",
          "data": {
            "text/plain": [
              "RandomForestClassifier(bootstrap=True, ccp_alpha=0.0, class_weight=None,\n",
              "                       criterion='gini', max_depth=None, max_features='auto',\n",
              "                       max_leaf_nodes=None, max_samples=None,\n",
              "                       min_impurity_decrease=0.0, min_impurity_split=None,\n",
              "                       min_samples_leaf=1, min_samples_split=2,\n",
              "                       min_weight_fraction_leaf=0.0, n_estimators=100,\n",
              "                       n_jobs=None, oob_score=False, random_state=None,\n",
              "                       verbose=0, warm_start=False)"
            ]
          },
          "metadata": {
            "tags": []
          },
          "execution_count": 215
        }
      ]
    },
    {
      "cell_type": "code",
      "metadata": {
        "id": "qvGdmMOZUZ98",
        "colab": {
          "base_uri": "https://localhost:8080/"
        },
        "outputId": "0446e51f-16bd-48e4-fa37-f759b3a48f11"
      },
      "source": [
        "parametros = {'n_estimators':[50,100,110], \n",
        "              'max_depth':[23, 24, 25, 26] \n",
        "              } \n",
        "\n",
        "# instancia um objeto grid search\n",
        "grid = GridSearchCV(rfn, parametros).fit(X_train, y_train)\n",
        "\n",
        "print(f' Melhores parâmetros: {grid.best_params_}')\n",
        "print(f'Melhor Score: {grid.best_score_}')"
      ],
      "execution_count": 222,
      "outputs": [
        {
          "output_type": "stream",
          "text": [
            " Melhores parâmetros: {'max_depth': 25, 'n_estimators': 100}\n",
            "Melhor Score: 0.9022005300747111\n"
          ],
          "name": "stdout"
        }
      ]
    },
    {
      "cell_type": "code",
      "metadata": {
        "colab": {
          "base_uri": "https://localhost:8080/"
        },
        "id": "soyAIN9TAviq",
        "outputId": "b0b8585b-292f-4110-8ae6-6603c61d92fd"
      },
      "source": [
        "rfn.fit(X_train, y_train)"
      ],
      "execution_count": 223,
      "outputs": [
        {
          "output_type": "execute_result",
          "data": {
            "text/plain": [
              "RandomForestClassifier(bootstrap=True, ccp_alpha=0.0, class_weight=None,\n",
              "                       criterion='gini', max_depth=None, max_features='auto',\n",
              "                       max_leaf_nodes=None, max_samples=None,\n",
              "                       min_impurity_decrease=0.0, min_impurity_split=None,\n",
              "                       min_samples_leaf=1, min_samples_split=2,\n",
              "                       min_weight_fraction_leaf=0.0, n_estimators=100,\n",
              "                       n_jobs=None, oob_score=False, random_state=None,\n",
              "                       verbose=0, warm_start=False)"
            ]
          },
          "metadata": {
            "tags": []
          },
          "execution_count": 223
        }
      ]
    },
    {
      "cell_type": "code",
      "metadata": {
        "colab": {
          "base_uri": "https://localhost:8080/"
        },
        "id": "lUjrRwU_AvxD",
        "outputId": "6cbe242c-7e65-427e-822a-c11321f09218"
      },
      "source": [
        "rfn.score(X_test, y_test)"
      ],
      "execution_count": 224,
      "outputs": [
        {
          "output_type": "execute_result",
          "data": {
            "text/plain": [
              "0.9320769532783667"
            ]
          },
          "metadata": {
            "tags": []
          },
          "execution_count": 224
        }
      ]
    },
    {
      "cell_type": "markdown",
      "metadata": {
        "id": "EC4PSwBCUZ9_"
      },
      "source": [
        "## 4. Conclusão\n",
        "O fluxo de trabalho de Aprendizado de Máquina não termina após a avaliação de performance do modelo escolhido. Na verdade, esta seria somente a primeira iteração de um processo que pode ter dezenas de tentativas.\n",
        "\n",
        "Encorajamos você a repetir novamente o processo descrito neste notebook. Contudo, explorando novas possibilidades para verificar a melhora/piora da performance do seu modelo. \n",
        "\n",
        "Você pode, por exemplo, remover variáveis/atributos menos importantes, normalizar variáveis importantes e escolher outros algoritmos de aprendizagem supervisionada. O Aprendizado de Máquina é uma área interessante justamente por causa disto. Você testa, você erra, você recomeça."
      ]
    }
  ]
}